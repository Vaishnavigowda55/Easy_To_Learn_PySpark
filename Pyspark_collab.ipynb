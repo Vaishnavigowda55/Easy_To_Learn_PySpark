{
  "nbformat": 4,
  "nbformat_minor": 0,
  "metadata": {
    "colab": {
      "provenance": []
    },
    "kernelspec": {
      "name": "python3",
      "display_name": "Python 3"
    },
    "language_info": {
      "name": "python"
    }
  },
  "cells": [
    {
      "cell_type": "code",
      "execution_count": 3,
      "metadata": {
        "colab": {
          "base_uri": "https://localhost:8080/"
        },
        "id": "pb5Uymxsjgrn",
        "outputId": "d1978ad9-4fc2-4429-85cd-5eac3d27bbef"
      },
      "outputs": [
        {
          "output_type": "stream",
          "name": "stdout",
          "text": [
            "Collecting pyspark\n",
            "  Downloading pyspark-3.5.1.tar.gz (317.0 MB)\n",
            "\u001b[2K     \u001b[90m━━━━━━━━━━━━━━━━━━━━━━━━━━━━━━━━━━━━━━━━\u001b[0m \u001b[32m317.0/317.0 MB\u001b[0m \u001b[31m3.9 MB/s\u001b[0m eta \u001b[36m0:00:00\u001b[0m\n",
            "\u001b[?25h  Preparing metadata (setup.py) ... \u001b[?25l\u001b[?25hdone\n",
            "Requirement already satisfied: py4j==0.10.9.7 in /usr/local/lib/python3.10/dist-packages (from pyspark) (0.10.9.7)\n",
            "Building wheels for collected packages: pyspark\n",
            "  Building wheel for pyspark (setup.py) ... \u001b[?25l\u001b[?25hdone\n",
            "  Created wheel for pyspark: filename=pyspark-3.5.1-py2.py3-none-any.whl size=317488493 sha256=ce354e2eeef36ecda08a72ba379a1507ed9fb67fcf17d6810af0de43a7319f48\n",
            "  Stored in directory: /root/.cache/pip/wheels/80/1d/60/2c256ed38dddce2fdd93be545214a63e02fbd8d74fb0b7f3a6\n",
            "Successfully built pyspark\n",
            "Installing collected packages: pyspark\n",
            "Successfully installed pyspark-3.5.1\n"
          ]
        }
      ],
      "source": [
        "pip install pyspark"
      ]
    },
    {
      "cell_type": "code",
      "source": [
        "!PYSPARK_HADOOP_VERSION=3 pip install pyspark"
      ],
      "metadata": {
        "colab": {
          "base_uri": "https://localhost:8080/"
        },
        "id": "3uIF-beDmzej",
        "outputId": "faf9be75-5248-4bf9-8af0-af5c79b160a0"
      },
      "execution_count": 10,
      "outputs": [
        {
          "output_type": "stream",
          "name": "stdout",
          "text": [
            "Requirement already satisfied: pyspark in /usr/local/lib/python3.10/dist-packages (3.5.1)\n",
            "Requirement already satisfied: py4j==0.10.9.7 in /usr/local/lib/python3.10/dist-packages (from pyspark) (0.10.9.7)\n"
          ]
        }
      ]
    },
    {
      "cell_type": "code",
      "source": [
        "from pyspark.sql import SparkSession\n",
        "\n",
        "spark = SparkSession.builder.appName('DEMO').getOrCreate()"
      ],
      "metadata": {
        "id": "ZiFAcNuanWOZ"
      },
      "execution_count": 11,
      "outputs": []
    },
    {
      "cell_type": "code",
      "source": [
        "spark"
      ],
      "metadata": {
        "colab": {
          "base_uri": "https://localhost:8080/",
          "height": 222
        },
        "id": "RjUjwVk2n1Ke",
        "outputId": "a29ab124-733f-4dd2-82c7-1cf6fa2ce4d6"
      },
      "execution_count": 12,
      "outputs": [
        {
          "output_type": "execute_result",
          "data": {
            "text/plain": [
              "<pyspark.sql.session.SparkSession at 0x7ebdfab9eda0>"
            ],
            "text/html": [
              "\n",
              "            <div>\n",
              "                <p><b>SparkSession - in-memory</b></p>\n",
              "                \n",
              "        <div>\n",
              "            <p><b>SparkContext</b></p>\n",
              "\n",
              "            <p><a href=\"http://5458322e5821:4040\">Spark UI</a></p>\n",
              "\n",
              "            <dl>\n",
              "              <dt>Version</dt>\n",
              "                <dd><code>v3.5.1</code></dd>\n",
              "              <dt>Master</dt>\n",
              "                <dd><code>local[*]</code></dd>\n",
              "              <dt>AppName</dt>\n",
              "                <dd><code>DEMO</code></dd>\n",
              "            </dl>\n",
              "        </div>\n",
              "        \n",
              "            </div>\n",
              "        "
            ]
          },
          "metadata": {},
          "execution_count": 12
        }
      ]
    },
    {
      "cell_type": "code",
      "source": [
        "pydata=spark.read.option('header','true').csv('job_details.csv',inferSchema=True)\n",
        "pydata.show()"
      ],
      "metadata": {
        "colab": {
          "base_uri": "https://localhost:8080/"
        },
        "id": "GyVIp7Lun5LA",
        "outputId": "e60b5730-ac16-4de2-b3ac-5e344b43ec48"
      },
      "execution_count": 13,
      "outputs": [
        {
          "output_type": "stream",
          "name": "stdout",
          "text": [
            "+---+-------+---+----------+------+------+\n",
            "| Id|   name|age|department|salary|  city|\n",
            "+---+-------+---+----------+------+------+\n",
            "|302|  Alice| 22|    tester| 55000|  pune|\n",
            "|305|    Bob| 24|    tester| 25000|mumbai|\n",
            "|308|Charlie| 35|   support| 15000|  pune|\n",
            "|310|  David| 24|    devops| 30000|  pune|\n",
            "|407|    Eva| 32|    Tester| 35000|  pune|\n",
            "|408|   Nano| 28|   support| 18000|mumbai|\n",
            "|400|   sudo| 27|   support| 22000|  pune|\n",
            "|255|   snap| 30|    devops| 45000|mumbai|\n",
            "|677| cateri| 34|    devops| 65000|mumbai|\n",
            "+---+-------+---+----------+------+------+\n",
            "\n"
          ]
        }
      ]
    },
    {
      "cell_type": "code",
      "source": [
        "pydata.filter(\"Salary<=20000\").select(['Name','age','Salary']).show()"
      ],
      "metadata": {
        "colab": {
          "base_uri": "https://localhost:8080/"
        },
        "id": "YVW-YyPcqIv_",
        "outputId": "3caabc2c-8ccf-4124-8d2f-e92fb0f90191"
      },
      "execution_count": 24,
      "outputs": [
        {
          "output_type": "stream",
          "name": "stdout",
          "text": [
            "+-------+---+------+\n",
            "|   Name|age|Salary|\n",
            "+-------+---+------+\n",
            "|Charlie| 35| 15000|\n",
            "|   Nano| 28| 18000|\n",
            "+-------+---+------+\n",
            "\n"
          ]
        }
      ]
    },
    {
      "cell_type": "code",
      "source": [
        "pydata.filter((pydata['Salary']<=20000)|(pydata['Salary']<=15000)).show()"
      ],
      "metadata": {
        "colab": {
          "base_uri": "https://localhost:8080/"
        },
        "id": "fNrGG_wrqXVX",
        "outputId": "ac3a586e-1899-40b0-f749-d50e6b08348f"
      },
      "execution_count": 22,
      "outputs": [
        {
          "output_type": "stream",
          "name": "stdout",
          "text": [
            "+---+-------+---+----------+------+------+\n",
            "| Id|   name|age|department|salary|  city|\n",
            "+---+-------+---+----------+------+------+\n",
            "|308|Charlie| 35|   support| 15000|  pune|\n",
            "|408|   Nano| 28|   support| 18000|mumbai|\n",
            "+---+-------+---+----------+------+------+\n",
            "\n"
          ]
        }
      ]
    },
    {
      "cell_type": "code",
      "source": [
        "pydata.filter(~(pydata['Salary']<=20000)).show()"
      ],
      "metadata": {
        "colab": {
          "base_uri": "https://localhost:8080/"
        },
        "id": "v9DuCJhyrS5j",
        "outputId": "7f436b93-2846-4078-99ee-7fdbe1270284"
      },
      "execution_count": 21,
      "outputs": [
        {
          "output_type": "stream",
          "name": "stdout",
          "text": [
            "+---+------+---+----------+------+------+\n",
            "| Id|  name|age|department|salary|  city|\n",
            "+---+------+---+----------+------+------+\n",
            "|302| Alice| 22|    tester| 55000|  pune|\n",
            "|305|   Bob| 24|    tester| 25000|mumbai|\n",
            "|310| David| 24|    devops| 30000|  pune|\n",
            "|407|   Eva| 32|    Tester| 35000|  pune|\n",
            "|400|  sudo| 27|   support| 22000|  pune|\n",
            "|255|  snap| 30|    devops| 45000|mumbai|\n",
            "|677|cateri| 34|    devops| 65000|mumbai|\n",
            "+---+------+---+----------+------+------+\n",
            "\n"
          ]
        }
      ]
    },
    {
      "cell_type": "code",
      "source": [
        "pydata.groupBy('Department').sum().show()"
      ],
      "metadata": {
        "colab": {
          "base_uri": "https://localhost:8080/"
        },
        "id": "EQSkf1ydrW8Y",
        "outputId": "824ebb50-4233-4ffe-e055-eb942efe94f9"
      },
      "execution_count": 26,
      "outputs": [
        {
          "output_type": "stream",
          "name": "stdout",
          "text": [
            "+----------+-------+--------+-----------+\n",
            "|Department|sum(Id)|sum(age)|sum(salary)|\n",
            "+----------+-------+--------+-----------+\n",
            "|    tester|    607|      46|      80000|\n",
            "|    Tester|    407|      32|      35000|\n",
            "|    devops|   1242|      88|     140000|\n",
            "|   support|   1116|      90|      55000|\n",
            "+----------+-------+--------+-----------+\n",
            "\n"
          ]
        }
      ]
    },
    {
      "cell_type": "code",
      "source": [
        "pydata.agg({'Salary':'sum'}).show()"
      ],
      "metadata": {
        "colab": {
          "base_uri": "https://localhost:8080/"
        },
        "id": "3iHnFKLpsGSm",
        "outputId": "aa074362-4cef-40bd-a781-4f1be9f8dba7"
      },
      "execution_count": 27,
      "outputs": [
        {
          "output_type": "stream",
          "name": "stdout",
          "text": [
            "+-----------+\n",
            "|sum(Salary)|\n",
            "+-----------+\n",
            "|     310000|\n",
            "+-----------+\n",
            "\n"
          ]
        }
      ]
    },
    {
      "cell_type": "code",
      "source": [
        "pydata.groupBy('Name').avg().show()"
      ],
      "metadata": {
        "colab": {
          "base_uri": "https://localhost:8080/"
        },
        "id": "A-eW8UHPsO4N",
        "outputId": "efa92a39-f11d-4697-b9b8-21b30b3b36a7"
      },
      "execution_count": 28,
      "outputs": [
        {
          "output_type": "stream",
          "name": "stdout",
          "text": [
            "+-------+-------+--------+-----------+\n",
            "|   Name|avg(Id)|avg(age)|avg(salary)|\n",
            "+-------+-------+--------+-----------+\n",
            "|   sudo|  400.0|    27.0|    22000.0|\n",
            "|    Eva|  407.0|    32.0|    35000.0|\n",
            "|   Nano|  408.0|    28.0|    18000.0|\n",
            "|Charlie|  308.0|    35.0|    15000.0|\n",
            "| cateri|  677.0|    34.0|    65000.0|\n",
            "|   snap|  255.0|    30.0|    45000.0|\n",
            "|    Bob|  305.0|    24.0|    25000.0|\n",
            "|  Alice|  302.0|    22.0|    55000.0|\n",
            "|  David|  310.0|    24.0|    30000.0|\n",
            "+-------+-------+--------+-----------+\n",
            "\n"
          ]
        }
      ]
    },
    {
      "cell_type": "code",
      "source": [
        "from pyspark.sql import SparkSession\n",
        "\n",
        "\n"
      ],
      "metadata": {
        "id": "FChpDJ6VtlGQ"
      },
      "execution_count": 33,
      "outputs": []
    },
    {
      "cell_type": "code",
      "source": [
        "df = spark.read.csv(\"job_details.csv\", header=True, inferSchema=True)\n",
        "df.createOrReplaceTempView(\"jobinfo\")\n",
        "df.show()\n",
        "\n"
      ],
      "metadata": {
        "colab": {
          "base_uri": "https://localhost:8080/"
        },
        "id": "3JwNUxnLtzEC",
        "outputId": "823c968c-111e-4317-a2b0-fb5979354dba"
      },
      "execution_count": 36,
      "outputs": [
        {
          "output_type": "stream",
          "name": "stdout",
          "text": [
            "+---+-------+---+----------+------+------+\n",
            "| Id|   name|age|department|salary|  city|\n",
            "+---+-------+---+----------+------+------+\n",
            "|302|  Alice| 22|    tester| 55000|  pune|\n",
            "|305|    Bob| 24|    tester| 25000|mumbai|\n",
            "|308|Charlie| 35|   support| 15000|  pune|\n",
            "|310|  David| 24|    devops| 30000|  pune|\n",
            "|407|    Eva| 32|    Tester| 35000|  pune|\n",
            "|408|   Nano| 28|   support| 18000|mumbai|\n",
            "|400|   sudo| 27|   support| 22000|  pune|\n",
            "|255|   snap| 30|    devops| 45000|mumbai|\n",
            "|677| cateri| 34|    devops| 65000|mumbai|\n",
            "+---+-------+---+----------+------+------+\n",
            "\n"
          ]
        }
      ]
    },
    {
      "cell_type": "code",
      "source": [
        "alterdata = spark.sql(\"SELECT * FROM jobinfo WHERE Salary BETWEEN 15000 AND 20000\")\n",
        "alterdata.show()\n"
      ],
      "metadata": {
        "colab": {
          "base_uri": "https://localhost:8080/"
        },
        "id": "bP0UzvKGuVV_",
        "outputId": "13f27a0a-8245-428d-ac9b-14432129d551"
      },
      "execution_count": 37,
      "outputs": [
        {
          "output_type": "stream",
          "name": "stdout",
          "text": [
            "+---+-------+---+----------+------+------+\n",
            "| Id|   name|age|department|salary|  city|\n",
            "+---+-------+---+----------+------+------+\n",
            "|308|Charlie| 35|   support| 15000|  pune|\n",
            "|408|   Nano| 28|   support| 18000|mumbai|\n",
            "+---+-------+---+----------+------+------+\n",
            "\n"
          ]
        }
      ]
    },
    {
      "cell_type": "code",
      "source": [
        "ald=spark.sql(\"SELECT * FROM jobinfo ORDER BY salary DESC\")\n",
        "ald.show()\n"
      ],
      "metadata": {
        "colab": {
          "base_uri": "https://localhost:8080/"
        },
        "id": "S-vKJHesvLuX",
        "outputId": "cba1b0a0-de0b-48e1-c93e-4d5cf35a8845"
      },
      "execution_count": 39,
      "outputs": [
        {
          "output_type": "stream",
          "name": "stdout",
          "text": [
            "+---+-------+---+----------+------+------+\n",
            "| Id|   name|age|department|salary|  city|\n",
            "+---+-------+---+----------+------+------+\n",
            "|677| cateri| 34|    devops| 65000|mumbai|\n",
            "|302|  Alice| 22|    tester| 55000|  pune|\n",
            "|255|   snap| 30|    devops| 45000|mumbai|\n",
            "|407|    Eva| 32|    Tester| 35000|  pune|\n",
            "|310|  David| 24|    devops| 30000|  pune|\n",
            "|305|    Bob| 24|    tester| 25000|mumbai|\n",
            "|400|   sudo| 27|   support| 22000|  pune|\n",
            "|408|   Nano| 28|   support| 18000|mumbai|\n",
            "|308|Charlie| 35|   support| 15000|  pune|\n",
            "+---+-------+---+----------+------+------+\n",
            "\n"
          ]
        }
      ]
    },
    {
      "cell_type": "code",
      "source": [
        "join_two_table = spark.sql(\" SELECT a.*, b.* FROM jobinfo a JOIN jobinfo b ON a.ID = b.ID \")\n",
        "join_two_table.show()\n"
      ],
      "metadata": {
        "colab": {
          "base_uri": "https://localhost:8080/"
        },
        "id": "zzOQKrsPvhYg",
        "outputId": "fc2192cd-ee4c-4a0e-d869-318d87a69373"
      },
      "execution_count": 40,
      "outputs": [
        {
          "output_type": "stream",
          "name": "stdout",
          "text": [
            "+---+-------+---+----------+------+------+---+-------+---+----------+------+------+\n",
            "| Id|   name|age|department|salary|  city| Id|   name|age|department|salary|  city|\n",
            "+---+-------+---+----------+------+------+---+-------+---+----------+------+------+\n",
            "|302|  Alice| 22|    tester| 55000|  pune|302|  Alice| 22|    tester| 55000|  pune|\n",
            "|305|    Bob| 24|    tester| 25000|mumbai|305|    Bob| 24|    tester| 25000|mumbai|\n",
            "|308|Charlie| 35|   support| 15000|  pune|308|Charlie| 35|   support| 15000|  pune|\n",
            "|310|  David| 24|    devops| 30000|  pune|310|  David| 24|    devops| 30000|  pune|\n",
            "|407|    Eva| 32|    Tester| 35000|  pune|407|    Eva| 32|    Tester| 35000|  pune|\n",
            "|408|   Nano| 28|   support| 18000|mumbai|408|   Nano| 28|   support| 18000|mumbai|\n",
            "|400|   sudo| 27|   support| 22000|  pune|400|   sudo| 27|   support| 22000|  pune|\n",
            "|255|   snap| 30|    devops| 45000|mumbai|255|   snap| 30|    devops| 45000|mumbai|\n",
            "|677| cateri| 34|    devops| 65000|mumbai|677| cateri| 34|    devops| 65000|mumbai|\n",
            "+---+-------+---+----------+------+------+---+-------+---+----------+------+------+\n",
            "\n"
          ]
        }
      ]
    },
    {
      "cell_type": "code",
      "source": [
        "conditionqury = spark.sql(\"\"\"\n",
        "    SELECT salary,\n",
        "           CASE\n",
        "               WHEN salary > 40000 THEN 'High'\n",
        "               WHEN salary BETWEEN 20000 AND 40000 THEN 'Medium'\n",
        "               ELSE 'Low'\n",
        "           END AS Salary_category\n",
        "    FROM jobinfo order by salary\n",
        "\"\"\")\n",
        "conditionqury.show()\n"
      ],
      "metadata": {
        "colab": {
          "base_uri": "https://localhost:8080/"
        },
        "id": "u92-FB-SwHFd",
        "outputId": "8952d577-8252-4524-b6d4-74e0a988680c"
      },
      "execution_count": 45,
      "outputs": [
        {
          "output_type": "stream",
          "name": "stdout",
          "text": [
            "+------+---------------+\n",
            "|salary|Salary_category|\n",
            "+------+---------------+\n",
            "| 15000|            Low|\n",
            "| 18000|            Low|\n",
            "| 22000|         Medium|\n",
            "| 25000|         Medium|\n",
            "| 30000|         Medium|\n",
            "| 35000|         Medium|\n",
            "| 45000|           High|\n",
            "| 55000|           High|\n",
            "| 65000|           High|\n",
            "+------+---------------+\n",
            "\n"
          ]
        }
      ]
    },
    {
      "cell_type": "code",
      "source": [],
      "metadata": {
        "id": "4uXIBYiDxGP6"
      },
      "execution_count": null,
      "outputs": []
    }
  ]
}